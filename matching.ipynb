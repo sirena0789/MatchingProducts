{
 "cells": [
  {
   "cell_type": "markdown",
   "id": "02a3fb7b",
   "metadata": {},
   "source": [
    "## Импорт библиотек"
   ]
  },
  {
   "cell_type": "code",
   "execution_count": null,
   "id": "Ai4LWgstN_uM",
   "metadata": {
    "id": "Ai4LWgstN_uM"
   },
   "outputs": [],
   "source": [
    "!apt install libomp-dev\n",
    "!pip install faiss-gpu\n",
    "!pip install adjdatatools"
   ]
  },
  {
   "cell_type": "code",
   "execution_count": 2,
   "id": "wPyG8-68SKwV",
   "metadata": {
    "colab": {
     "base_uri": "https://localhost:8080/"
    },
    "id": "wPyG8-68SKwV",
    "outputId": "f9fc5664-9cb5-474a-9aaf-1e7fde63934f"
   },
   "outputs": [
    {
     "name": "stdout",
     "output_type": "stream",
     "text": [
      "Mounted at /content/drive\n"
     ]
    }
   ],
   "source": [
    "from google.colab import drive\n",
    "drive.mount('/content/drive')"
   ]
  },
  {
   "cell_type": "code",
   "execution_count": 1,
   "id": "424e17cb-ae43-475d-bd00-a3bb36a51cb5",
   "metadata": {
    "id": "424e17cb-ae43-475d-bd00-a3bb36a51cb5"
   },
   "outputs": [],
   "source": [
    "import pandas as pd\n",
    "import numpy as np\n",
    "import faiss\n",
    "from faiss import write_index, read_index\n",
    "from tqdm.notebook import tqdm\n",
    "import matplotlib.pyplot as plt\n",
    "from adjdatatools.preprocessing import AdjustedScaler\n",
    "from sklearn.preprocessing import StandardScaler, MinMaxScaler\n",
    "\n",
    "import warnings\n",
    "warnings.simplefilter(\"ignore\")"
   ]
  },
  {
   "cell_type": "markdown",
   "id": "cb678932",
   "metadata": {},
   "source": [
    "## Знакомство с данными"
   ]
  },
  {
   "cell_type": "markdown",
   "id": "3eb9d043-5d0b-47b7-bff1-82395794b958",
   "metadata": {
    "id": "3eb9d043-5d0b-47b7-bff1-82395794b958"
   },
   "source": [
    "### Вспомогательные функции"
   ]
  },
  {
   "cell_type": "code",
   "execution_count": 2,
   "id": "a585e02c",
   "metadata": {},
   "outputs": [],
   "source": [
    "def graph(df, color):\n",
    "    features = list(df.columns)\n",
    "    f_size = (10, 200)\n",
    "    plt.figure(figsize=f_size)\n",
    "    for i, feature in enumerate(features):\n",
    "        plt.subplot(36, 2, i+1)\n",
    "        plt.subplots_adjust(wspace=0.3, hspace=0.7)\n",
    "        df[feature].hist(bins=100, color=color)\n",
    "        plt.title(feature)\n",
    "        plt.xlabel(\"Значение признака\")\n",
    "        plt.ylabel(\"Количество\")\n",
    "    return"
   ]
  },
  {
   "cell_type": "code",
   "execution_count": 3,
   "id": "bcf3dd2a",
   "metadata": {
    "id": "bcf3dd2a",
    "scrolled": true
   },
   "outputs": [],
   "source": [
    "def hello(df, color):\n",
    "    print('Пример строк \\n')\n",
    "    display(df.head(5))\n",
    "    print('Размер фрейма:', df.shape)\n",
    "    print('Количество дубликатов:', df.duplicated().sum())\n",
    "    print('Количество пропусков:', df.isnull().sum().sum ())\n",
    "    print('Корреляция признаков \\n')\n",
    "    display(df.describe())\n",
    "    print('Визуализация признаков \\n')\n",
    "    graph(df, color)\n",
    "    return"
   ]
  },
  {
   "cell_type": "markdown",
   "id": "051065b0",
   "metadata": {},
   "source": [
    "### Base dataset"
   ]
  },
  {
   "cell_type": "code",
   "execution_count": 72,
   "id": "57a7c046",
   "metadata": {},
   "outputs": [],
   "source": [
    "df_base = pd.read_csv(\"/Users/sirena0789/Desktop/Матчинг/data/base.csv\", index_col=0)"
   ]
  },
  {
   "cell_type": "code",
   "execution_count": null,
   "id": "fbd97262",
   "metadata": {
    "id": "fbd97262"
   },
   "outputs": [],
   "source": [
    "hello(df_base, 'pink')"
   ]
  },
  {
   "cell_type": "markdown",
   "id": "kWZs-D0rv80a",
   "metadata": {
    "id": "kWZs-D0rv80a"
   },
   "source": [
    "### Train dataset"
   ]
  },
  {
   "cell_type": "code",
   "execution_count": 73,
   "id": "rhL7Obwgv27q",
   "metadata": {
    "colab": {
     "base_uri": "https://localhost:8080/",
     "height": 374
    },
    "id": "rhL7Obwgv27q",
    "outputId": "87287643-6580-4154-e391-854c05dadaae",
    "scrolled": true
   },
   "outputs": [],
   "source": [
    "df_train = pd.read_csv(\"/Users/sirena0789/Desktop/Матчинг/data/train.csv\", index_col=0)"
   ]
  },
  {
   "cell_type": "code",
   "execution_count": null,
   "id": "5147c85f",
   "metadata": {},
   "outputs": [],
   "source": [
    "hello(df_train, 'lightgray')"
   ]
  },
  {
   "cell_type": "markdown",
   "id": "c1b49e8f",
   "metadata": {},
   "source": [
    "### Validation dataset"
   ]
  },
  {
   "cell_type": "code",
   "execution_count": 109,
   "id": "6add446f",
   "metadata": {},
   "outputs": [],
   "source": [
    "df_valid = pd.read_csv(\"/Users/sirena0789/Desktop/Матчинг/data/validation.csv\", index_col=0)"
   ]
  },
  {
   "cell_type": "code",
   "execution_count": null,
   "id": "41d86841",
   "metadata": {},
   "outputs": [],
   "source": [
    "hello(df_valid, 'lightblue')"
   ]
  },
  {
   "cell_type": "markdown",
   "id": "8287f04a",
   "metadata": {},
   "source": [
    "### Вывод\n",
    "Всем признакам необходима нормализация, а признакам под номерами 6, 21, 25, 33, 44, 59, 65, 70 еще нужна стандартизация."
   ]
  },
  {
   "cell_type": "markdown",
   "id": "bf60c530",
   "metadata": {},
   "source": [
    "## Работа с признаками"
   ]
  },
  {
   "cell_type": "code",
   "execution_count": 92,
   "id": "8835580e",
   "metadata": {},
   "outputs": [],
   "source": [
    "def st_scaler(df_base, df_train):\n",
    "    scaler = StandardScaler()\n",
    "    scaler.fit(df_base)\n",
    "    df_base_scaled  = scaler.transform(df_base)\n",
    "    df_train_scaled = scaler.transform(df_train)\n",
    "    df_base_scaled = pd.DataFrame(df_base_scaled, columns = df_base.columns, index=df_base.index)\n",
    "    df_train_scaled = pd.DataFrame(df_train_scaled, columns = df_train.columns, index=df_train.index)\n",
    "    return df_base_scaled, df_train_scaled"
   ]
  },
  {
   "cell_type": "code",
   "execution_count": 66,
   "id": "4f3e8627",
   "metadata": {},
   "outputs": [],
   "source": [
    "def minmax_scaler(df_base, df_train):\n",
    "    scaler = MinMaxScaler()\n",
    "    scaler.fit(df_base)\n",
    "    df_base_scaled  = scaler.transform(df_base)\n",
    "    df_train_scaled = scaler.transform(df_train)\n",
    "    df_base_scaled = pd.DataFrame(df_base_scaled, columns = df_base.columns)\n",
    "    df_train_scaled = pd.DataFrame(df_train_scaled, columns = df_train.columns)\n",
    "    return df_base_scaled, df_train_scaled"
   ]
  },
  {
   "cell_type": "code",
   "execution_count": 20,
   "id": "c8e5b3b8",
   "metadata": {},
   "outputs": [],
   "source": [
    "def adj_scaler(df_base, df_train):\n",
    "    scaler = AdjustedScaler()\n",
    "    scaler.fit(df_base)\n",
    "    df_base  = scaler.transform(df_base)\n",
    "    df_train = scaler.transform(df_train)\n",
    "    return df_base, df_train"
   ]
  },
  {
   "cell_type": "code",
   "execution_count": 75,
   "id": "9d386dac",
   "metadata": {},
   "outputs": [],
   "source": [
    "# выделение цел. признака в отдельный датасет\n",
    "targets = df_train[\"Target\"]\n",
    "df_train.drop(\"Target\", axis=1, inplace=True)"
   ]
  },
  {
   "cell_type": "code",
   "execution_count": 93,
   "id": "8e5effcb",
   "metadata": {},
   "outputs": [],
   "source": [
    "df_base_st = df_base\n",
    "df_base_minmax = df_base\n",
    "df_base_adj = df_base\n",
    "df_train_st = df_train\n",
    "df_train_minmax = df_train\n",
    "df_train_adj = df_train"
   ]
  },
  {
   "cell_type": "code",
   "execution_count": 94,
   "id": "df1f8916",
   "metadata": {},
   "outputs": [
    {
     "name": "stdout",
     "output_type": "stream",
     "text": [
      "CPU times: user 1.49 s, sys: 2.74 s, total: 4.23 s\n",
      "Wall time: 8.16 s\n"
     ]
    }
   ],
   "source": [
    "%%time\n",
    "\n",
    "df_base_st, df_train_st = st_scaler(df_base_st, df_train_st)"
   ]
  },
  {
   "cell_type": "code",
   "execution_count": 23,
   "id": "d6578c69",
   "metadata": {},
   "outputs": [
    {
     "name": "stdout",
     "output_type": "stream",
     "text": [
      "CPU times: user 746 ms, sys: 1.23 s, total: 1.98 s\n",
      "Wall time: 2.46 s\n"
     ]
    }
   ],
   "source": [
    "%%time\n",
    "\n",
    "df_base_minmax, df_train_minmax = minmax_scaler(df_base_minmax, df_train_minmax)"
   ]
  },
  {
   "cell_type": "code",
   "execution_count": 24,
   "id": "92f7bf07",
   "metadata": {
    "scrolled": false
   },
   "outputs": [
    {
     "name": "stdout",
     "output_type": "stream",
     "text": [
      "CPU times: user 1min 37s, sys: 1min, total: 2min 37s\n",
      "Wall time: 2min 44s\n"
     ]
    }
   ],
   "source": [
    "%%time\n",
    "\n",
    "df_base_adj, df_train_adj = adj_scaler(df_base_adj, df_train_adj)"
   ]
  },
  {
   "cell_type": "code",
   "execution_count": 27,
   "id": "96a52b4b",
   "metadata": {},
   "outputs": [],
   "source": [
    "base_index = {k: v for k, v in enumerate(df_base.index.to_list())}"
   ]
  },
  {
   "cell_type": "markdown",
   "id": "08cb5ce5-8eb3-42cc-a2f7-ca1bba8d0a1d",
   "metadata": {
    "id": "08cb5ce5-8eb3-42cc-a2f7-ca1bba8d0a1d"
   },
   "source": [
    "## Create index"
   ]
  },
  {
   "cell_type": "code",
   "execution_count": 79,
   "id": "XskjPITAhIUs",
   "metadata": {
    "id": "XskjPITAhIUs"
   },
   "outputs": [
    {
     "name": "stdout",
     "output_type": "stream",
     "text": [
      "accuracy StandardScaler : 69.789%\n",
      "CPU times: user 46min 8s, sys: 2min 27s, total: 48min 36s\n",
      "Wall time: 6min 24s\n"
     ]
    }
   ],
   "source": [
    "%%time\n",
    "\n",
    "\n",
    "dimensions = df_base_st.shape[1] # n-мерность векторов\n",
    "idx_l2 = faiss.IndexFlatL2(dimensions)\n",
    "\n",
    "# обучение делителя пространства на первых 50 тысячах объектов из df_base\n",
    "idx_l2.train(np.ascontiguousarray(df_base_st.values).astype('float32'))\n",
    "# деление всех векторов по правилам, сформированным на предыдущем шаге\n",
    "idx_l2.add(np.ascontiguousarray(df_base_st.values).astype('float32'))\n",
    "\n",
    "\n",
    "top_count = 10 # количество кандидатов на сопоставление\n",
    "vectors_st, idx_st = idx_l2.search(np.ascontiguousarray(df_train_st.values).astype('float32'), top_count)\n",
    "\n",
    "acc_st = 0\n",
    "for target, candidates in zip(targets.values.tolist(), idx_st.tolist()):\n",
    "    acc_st += int(target in [base_index[number] for number in candidates])\n",
    "\n",
    "print('accuracy StandardScaler : {}%'.format(acc_st / len(idx_st) * 100))"
   ]
  },
  {
   "cell_type": "raw",
   "id": "a19e8566",
   "metadata": {},
   "source": [
    "%%time\n",
    "\n",
    "\n",
    "dimensions = df_base_minmax.shape[1] # n-мерность векторов\n",
    "n_cells = 10 # кол-во кластеров на которые делится всё векторное пространство\n",
    "idx_l2 = faiss.IndexFlatL2(dimensions)\n",
    "#idx_l2 = faiss.IndexIVFFlat(quantizer, dimensions, n_cells)\n",
    "\n",
    "# обучение делителя пространства на первых 50 тысячах объектов из df_base\n",
    "idx_l2.train(np.ascontiguousarray(df_base_minmax[:50000, :]))\n",
    "# деление всех векторов по правилам, сформированным на предыдущем шаге\n",
    "idx_l2.add(np.ascontiguousarray(df_base_minmax))\n",
    "\n",
    "\n",
    "top_count = 10 # количество кандидатов на сопоставление\n",
    "vectors, idx = idx_l2.search(np.ascontiguousarray(df_train_minmax), top_count)\n",
    "\n",
    "acc = 0\n",
    "for target, candidates in zip(targets.values.tolist(), idx.tolist()):\n",
    "    acc += int(target in [base_index[number] for number in candidates])\n",
    "\n",
    "print('accuracy minmax: {}%'.format(acc / len(idx) * 100))"
   ]
  },
  {
   "cell_type": "code",
   "execution_count": 36,
   "id": "4b448daf",
   "metadata": {
    "collapsed": true
   },
   "outputs": [
    {
     "ename": "NameError",
     "evalue": "name 'acc_adj' is not defined",
     "output_type": "error",
     "traceback": [
      "\u001b[0;31m---------------------------------------------------------------------------\u001b[0m",
      "\u001b[0;31mNameError\u001b[0m                                 Traceback (most recent call last)",
      "File \u001b[0;32m<timed exec>:19\u001b[0m\n",
      "\u001b[0;31mNameError\u001b[0m: name 'acc_adj' is not defined"
     ]
    }
   ],
   "source": [
    "%%time\n",
    "\n",
    "\n",
    "dimensions = df_base_adj.shape[1] # n-мерность векторов\n",
    "n_cells = 10 # кол-во кластеров на которые делится всё векторное пространство\n",
    "idx_l2 = faiss.IndexFlatL2(dimensions)\n",
    "#idx_l2 = faiss.IndexIVFFlat(quantizer, dimensions, n_cells)\n",
    "\n",
    "# обучение делителя пространства на первых 50 тысячах объектов из df_base\n",
    "idx_l2.train(np.ascontiguousarray(df_base_adj.values).astype('float32'))\n",
    "# деление всех векторов по правилам, сформированным на предыдущем шаге\n",
    "idx_l2.add(np.ascontiguousarray(df_base_adj.values).astype('float32'))\n",
    "\n",
    "\n",
    "top_count = 20 # количество кандидатов на сопоставление\n",
    "vectors_adj, idx_adj = idx_l2.search(np.ascontiguousarray(df_train_adj.values).astype('float32'), top_count)\n",
    "\n",
    "acc_adj = 0\n",
    "for target, candidates in zip(targets.values.tolist(), idx_adj.tolist()):\n",
    "    acc_adj += int(target in [base_index[number] for number in candidates])\n",
    "\n",
    "print('accuracy adj: {}%'.format(acc_adj / len(idx_adj) * 100))"
   ]
  },
  {
   "cell_type": "markdown",
   "id": "f6c2000e",
   "metadata": {},
   "source": [
    "## Создание датафрейма для обучения"
   ]
  },
  {
   "cell_type": "code",
   "execution_count": 108,
   "id": "ceef41c6",
   "metadata": {},
   "outputs": [],
   "source": [
    "def one_df(j): \n",
    "    final_df = pd.DataFrame(idx_st[j])\n",
    "    final_df.columns = ['inx']\n",
    "\n",
    "    def index_get(i):\n",
    "        return base_index[i['inx']]\n",
    "\n",
    "    final_df['base_inx'] = final_df.apply(index_get, axis=1)\n",
    "    final_df['query_inx'] = str(j) + '-query'\n",
    "    final_df = final_df.merge(df_base_st, how='inner', left_on='base_inx', right_index=True)\n",
    "    final_df = final_df.merge(df_train_st, how='inner', left_on='query_inx', right_index=True)\n",
    "    final_df['target_inx'] = targets[j]\n",
    "    final_df['target'] = final_df['target_inx'] == final_df['base_inx']\n",
    "    final_df['target'] = final_df['target'].astype('int')\n",
    "    return final_df"
   ]
  },
  {
   "cell_type": "code",
   "execution_count": 120,
   "id": "d9fb2212",
   "metadata": {},
   "outputs": [],
   "source": [
    "def fin_df():\n",
    "    new_df = pd.DataFrame()\n",
    "    new_df = pd.concat([new_df] + list(map(one_df, range(9999))),ignore_index=True)\n",
    "    return new_df       "
   ]
  },
  {
   "cell_type": "code",
   "execution_count": null,
   "id": "9fb932a7",
   "metadata": {},
   "outputs": [],
   "source": [
    "new_df = fin_df()"
   ]
  },
  {
   "cell_type": "code",
   "execution_count": null,
   "id": "3eb48bbe",
   "metadata": {},
   "outputs": [],
   "source": [
    "new_df"
   ]
  }
 ],
 "metadata": {
  "accelerator": "GPU",
  "colab": {
   "gpuType": "A100",
   "machine_shape": "hm",
   "provenance": []
  },
  "kernelspec": {
   "display_name": "Python 3 (ipykernel)",
   "language": "python",
   "name": "python3"
  },
  "language_info": {
   "codemirror_mode": {
    "name": "ipython",
    "version": 3
   },
   "file_extension": ".py",
   "mimetype": "text/x-python",
   "name": "python",
   "nbconvert_exporter": "python",
   "pygments_lexer": "ipython3",
   "version": "3.9.17"
  }
 },
 "nbformat": 4,
 "nbformat_minor": 5
}
